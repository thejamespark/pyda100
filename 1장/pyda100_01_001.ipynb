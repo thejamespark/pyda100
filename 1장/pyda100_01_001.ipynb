{
 "cells": [
  {
   "cell_type": "markdown",
   "id": "a18a9d8e-dc37-4904-bfb0-3f5cb747fec9",
   "metadata": {},
   "source": [
    "# Ch-01. 웹에서 주문 수를 분석하는 테크닉\n",
    "## [001] 데이터 불러오기"
   ]
  },
  {
   "cell_type": "code",
   "execution_count": 77,
   "id": "9a88859e-dd4b-4256-994e-8dfb8f7f19ce",
   "metadata": {},
   "outputs": [],
   "source": [
    "import pandas as pd\n",
    "import os\n",
    "import sys"
   ]
  },
  {
   "cell_type": "code",
   "execution_count": 87,
   "id": "7cad55d7-61ef-443f-b662-51f05270d486",
   "metadata": {},
   "outputs": [
    {
     "data": {
      "text/plain": [
       "['.ipynb_checkpoints',\n",
       " 'customer_master.csv',\n",
       " 'item_master.csv',\n",
       " 'pyda100_01_001.ipynb',\n",
       " 'transaction_1.csv',\n",
       " 'transaction_2.csv',\n",
       " 'transaction_detail_1.csv',\n",
       " 'transaction_detail_2.csv',\n",
       " '제1장_answer.ipynb']"
      ]
     },
     "execution_count": 87,
     "metadata": {},
     "output_type": "execute_result"
    }
   ],
   "source": [
    "file_list = os.listdir()\n",
    "file_list"
   ]
  },
  {
   "cell_type": "code",
   "execution_count": 89,
   "id": "4f6d59d3-64a6-4bdd-9226-1c08a1c1d6b6",
   "metadata": {},
   "outputs": [
    {
     "data": {
      "text/plain": [
       "['customer_master.csv',\n",
       " 'item_master.csv',\n",
       " 'transaction_1.csv',\n",
       " 'transaction_2.csv',\n",
       " 'transaction_detail_1.csv',\n",
       " 'transaction_detail_2.csv']"
      ]
     },
     "execution_count": 89,
     "metadata": {},
     "output_type": "execute_result"
    }
   ],
   "source": [
    "file_names = []\n",
    "i = 0\n",
    "for i in range(len(file_list)):\n",
    "    filename, filetype = file_list[i].split(sep='.')\n",
    "    if filetype == 'csv':\n",
    "        file_names.append(file_list[i])\n",
    "    else:\n",
    "        continue\n",
    "file_names"
   ]
  },
  {
   "cell_type": "code",
   "execution_count": 90,
   "id": "255f9748-5874-415c-bec5-eb195d439aca",
   "metadata": {},
   "outputs": [],
   "source": [
    "customer_master_raw = pd.read_csv(file_names[0])\n",
    "customer_master = customer_master_raw.copy()"
   ]
  },
  {
   "cell_type": "code",
   "execution_count": 91,
   "id": "2b1e0e11-10c4-40dd-9d9d-6d4eaf738b18",
   "metadata": {},
   "outputs": [],
   "source": [
    "item_master_raw = pd.read_csv(file_names[1])\n",
    "item_master = item_master_raw.copy()"
   ]
  },
  {
   "cell_type": "code",
   "execution_count": 92,
   "id": "426e8d49-6f9e-4b55-bfd8-a9903027da49",
   "metadata": {},
   "outputs": [],
   "source": [
    "transaction_1_raw = pd.read_csv(file_names[2])\n",
    "transaction_1 = transaction_1_raw.copy()"
   ]
  },
  {
   "cell_type": "code",
   "execution_count": 93,
   "id": "56ff9ac2-655f-47f4-9f63-83a39b13261a",
   "metadata": {},
   "outputs": [],
   "source": [
    "transaction_2_raw = pd.read_csv(file_names[3])\n",
    "transaction_2 = transaction_2_raw.copy()"
   ]
  },
  {
   "cell_type": "code",
   "execution_count": 94,
   "id": "3a6ec77f-9c63-4cd0-a9a8-2e6c7eee324f",
   "metadata": {},
   "outputs": [],
   "source": [
    "transaction_detail_1_raw = pd.read_csv(file_names[4])\n",
    "transaction_detail_1 = transaction_detail_1_raw.copy()"
   ]
  },
  {
   "cell_type": "code",
   "execution_count": 95,
   "id": "26dff5d3-e600-431f-9457-cf39a9e723b1",
   "metadata": {},
   "outputs": [],
   "source": [
    "transaction_detail_2_raw = pd.read_csv(file_names[5])\n",
    "transaction_detail_2 = transaction_detail_2_raw.copy()"
   ]
  },
  {
   "cell_type": "code",
   "execution_count": 96,
   "id": "2f2aa157-d362-491e-81d3-a046a492afbe",
   "metadata": {},
   "outputs": [
    {
     "data": {
      "text/html": [
       "<div>\n",
       "<style scoped>\n",
       "    .dataframe tbody tr th:only-of-type {\n",
       "        vertical-align: middle;\n",
       "    }\n",
       "\n",
       "    .dataframe tbody tr th {\n",
       "        vertical-align: top;\n",
       "    }\n",
       "\n",
       "    .dataframe thead th {\n",
       "        text-align: right;\n",
       "    }\n",
       "</style>\n",
       "<table border=\"1\" class=\"dataframe\">\n",
       "  <thead>\n",
       "    <tr style=\"text-align: right;\">\n",
       "      <th></th>\n",
       "      <th>customer_id</th>\n",
       "      <th>customer_name</th>\n",
       "      <th>registration_date</th>\n",
       "      <th>email</th>\n",
       "      <th>gender</th>\n",
       "      <th>age</th>\n",
       "      <th>birth</th>\n",
       "      <th>pref</th>\n",
       "    </tr>\n",
       "  </thead>\n",
       "  <tbody>\n",
       "    <tr>\n",
       "      <th>0</th>\n",
       "      <td>IK152942</td>\n",
       "      <td>김서준</td>\n",
       "      <td>2019-01-01 0:25</td>\n",
       "      <td>hirata_yuujirou@example.com</td>\n",
       "      <td>M</td>\n",
       "      <td>29</td>\n",
       "      <td>1990-06-10</td>\n",
       "      <td>대전광역시</td>\n",
       "    </tr>\n",
       "    <tr>\n",
       "      <th>1</th>\n",
       "      <td>TS808488</td>\n",
       "      <td>김예준</td>\n",
       "      <td>2019-01-01 1:13</td>\n",
       "      <td>tamura_shiori@example.com</td>\n",
       "      <td>F</td>\n",
       "      <td>33</td>\n",
       "      <td>1986-05-20</td>\n",
       "      <td>인천광역시</td>\n",
       "    </tr>\n",
       "  </tbody>\n",
       "</table>\n",
       "</div>"
      ],
      "text/plain": [
       "  customer_id customer_name registration_date                        email  \\\n",
       "0    IK152942           김서준   2019-01-01 0:25  hirata_yuujirou@example.com   \n",
       "1    TS808488           김예준   2019-01-01 1:13    tamura_shiori@example.com   \n",
       "\n",
       "  gender  age       birth   pref  \n",
       "0      M   29  1990-06-10  대전광역시  \n",
       "1      F   33  1986-05-20  인천광역시  "
      ]
     },
     "execution_count": 96,
     "metadata": {},
     "output_type": "execute_result"
    }
   ],
   "source": [
    "customer_master.head(2)"
   ]
  },
  {
   "cell_type": "code",
   "execution_count": 97,
   "id": "1f398c30-3a82-40e2-af16-7ddd536e6b73",
   "metadata": {},
   "outputs": [
    {
     "data": {
      "text/html": [
       "<div>\n",
       "<style scoped>\n",
       "    .dataframe tbody tr th:only-of-type {\n",
       "        vertical-align: middle;\n",
       "    }\n",
       "\n",
       "    .dataframe tbody tr th {\n",
       "        vertical-align: top;\n",
       "    }\n",
       "\n",
       "    .dataframe thead th {\n",
       "        text-align: right;\n",
       "    }\n",
       "</style>\n",
       "<table border=\"1\" class=\"dataframe\">\n",
       "  <thead>\n",
       "    <tr style=\"text-align: right;\">\n",
       "      <th></th>\n",
       "      <th>item_id</th>\n",
       "      <th>item_name</th>\n",
       "      <th>item_price</th>\n",
       "    </tr>\n",
       "  </thead>\n",
       "  <tbody>\n",
       "    <tr>\n",
       "      <th>0</th>\n",
       "      <td>S001</td>\n",
       "      <td>PC-A</td>\n",
       "      <td>50000</td>\n",
       "    </tr>\n",
       "    <tr>\n",
       "      <th>1</th>\n",
       "      <td>S002</td>\n",
       "      <td>PC-B</td>\n",
       "      <td>85000</td>\n",
       "    </tr>\n",
       "  </tbody>\n",
       "</table>\n",
       "</div>"
      ],
      "text/plain": [
       "  item_id item_name  item_price\n",
       "0    S001      PC-A       50000\n",
       "1    S002      PC-B       85000"
      ]
     },
     "execution_count": 97,
     "metadata": {},
     "output_type": "execute_result"
    }
   ],
   "source": [
    "item_master.head(2)"
   ]
  },
  {
   "cell_type": "code",
   "execution_count": 98,
   "id": "02502a3f-64a4-4a22-a712-7ccc13316331",
   "metadata": {},
   "outputs": [
    {
     "data": {
      "text/html": [
       "<div>\n",
       "<style scoped>\n",
       "    .dataframe tbody tr th:only-of-type {\n",
       "        vertical-align: middle;\n",
       "    }\n",
       "\n",
       "    .dataframe tbody tr th {\n",
       "        vertical-align: top;\n",
       "    }\n",
       "\n",
       "    .dataframe thead th {\n",
       "        text-align: right;\n",
       "    }\n",
       "</style>\n",
       "<table border=\"1\" class=\"dataframe\">\n",
       "  <thead>\n",
       "    <tr style=\"text-align: right;\">\n",
       "      <th></th>\n",
       "      <th>transaction_id</th>\n",
       "      <th>price</th>\n",
       "      <th>payment_date</th>\n",
       "      <th>customer_id</th>\n",
       "    </tr>\n",
       "  </thead>\n",
       "  <tbody>\n",
       "    <tr>\n",
       "      <th>0</th>\n",
       "      <td>T0000000113</td>\n",
       "      <td>210000</td>\n",
       "      <td>2019-02-01 01:36:57</td>\n",
       "      <td>PL563502</td>\n",
       "    </tr>\n",
       "    <tr>\n",
       "      <th>1</th>\n",
       "      <td>T0000000114</td>\n",
       "      <td>50000</td>\n",
       "      <td>2019-02-01 01:37:23</td>\n",
       "      <td>HD678019</td>\n",
       "    </tr>\n",
       "  </tbody>\n",
       "</table>\n",
       "</div>"
      ],
      "text/plain": [
       "  transaction_id   price         payment_date customer_id\n",
       "0    T0000000113  210000  2019-02-01 01:36:57    PL563502\n",
       "1    T0000000114   50000  2019-02-01 01:37:23    HD678019"
      ]
     },
     "execution_count": 98,
     "metadata": {},
     "output_type": "execute_result"
    }
   ],
   "source": [
    "transaction_1.head(2)"
   ]
  },
  {
   "cell_type": "code",
   "execution_count": 99,
   "id": "d8f29587-47ba-42c7-ba15-71d21446bba6",
   "metadata": {},
   "outputs": [
    {
     "data": {
      "text/html": [
       "<div>\n",
       "<style scoped>\n",
       "    .dataframe tbody tr th:only-of-type {\n",
       "        vertical-align: middle;\n",
       "    }\n",
       "\n",
       "    .dataframe tbody tr th {\n",
       "        vertical-align: top;\n",
       "    }\n",
       "\n",
       "    .dataframe thead th {\n",
       "        text-align: right;\n",
       "    }\n",
       "</style>\n",
       "<table border=\"1\" class=\"dataframe\">\n",
       "  <thead>\n",
       "    <tr style=\"text-align: right;\">\n",
       "      <th></th>\n",
       "      <th>detail_id</th>\n",
       "      <th>transaction_id</th>\n",
       "      <th>item_id</th>\n",
       "      <th>quantity</th>\n",
       "    </tr>\n",
       "  </thead>\n",
       "  <tbody>\n",
       "    <tr>\n",
       "      <th>0</th>\n",
       "      <td>0</td>\n",
       "      <td>T0000000113</td>\n",
       "      <td>S005</td>\n",
       "      <td>1</td>\n",
       "    </tr>\n",
       "    <tr>\n",
       "      <th>1</th>\n",
       "      <td>1</td>\n",
       "      <td>T0000000114</td>\n",
       "      <td>S001</td>\n",
       "      <td>1</td>\n",
       "    </tr>\n",
       "  </tbody>\n",
       "</table>\n",
       "</div>"
      ],
      "text/plain": [
       "   detail_id transaction_id item_id  quantity\n",
       "0          0    T0000000113    S005         1\n",
       "1          1    T0000000114    S001         1"
      ]
     },
     "execution_count": 99,
     "metadata": {},
     "output_type": "execute_result"
    }
   ],
   "source": [
    "transaction_detail_1.head(2)"
   ]
  },
  {
   "cell_type": "markdown",
   "id": "5a723632-e938-4597-8908-d4be1ae3a5df",
   "metadata": {},
   "source": [
    "## [002] 데이터 결합(유니언): pd.concat()"
   ]
  },
  {
   "cell_type": "code",
   "execution_count": 57,
   "id": "fcc70204-e3dd-4ca0-aa84-790e83b4a62c",
   "metadata": {},
   "outputs": [],
   "source": [
    "transaction = pd.concat([transaction_1, transaction_2], ignore_index = True)"
   ]
  },
  {
   "cell_type": "code",
   "execution_count": 65,
   "id": "1be01bca-40a3-487e-824a-21f405001c74",
   "metadata": {},
   "outputs": [],
   "source": [
    "transaction_detail = pd.concat([transaction_detail_1, transaction_detail_2], ignore_index = True)"
   ]
  },
  {
   "cell_type": "code",
   "execution_count": 59,
   "id": "57bbd7bc-2fc0-4347-9e94-072e6e523bbf",
   "metadata": {},
   "outputs": [
    {
     "data": {
      "text/plain": [
       "(6786, 4)"
      ]
     },
     "execution_count": 59,
     "metadata": {},
     "output_type": "execute_result"
    }
   ],
   "source": [
    "transaction.shape"
   ]
  },
  {
   "cell_type": "code",
   "execution_count": 60,
   "id": "ea1b9f74-5b22-487d-be2b-d94d5b985e4d",
   "metadata": {},
   "outputs": [
    {
     "data": {
      "text/plain": [
       "(5000, 4)"
      ]
     },
     "execution_count": 60,
     "metadata": {},
     "output_type": "execute_result"
    }
   ],
   "source": [
    "transaction_1.shape"
   ]
  },
  {
   "cell_type": "code",
   "execution_count": 61,
   "id": "5d5f80cd-4b94-46a9-a77f-59d6f36d169a",
   "metadata": {},
   "outputs": [
    {
     "data": {
      "text/plain": [
       "(1786, 4)"
      ]
     },
     "execution_count": 61,
     "metadata": {},
     "output_type": "execute_result"
    }
   ],
   "source": [
    "transaction_2.shape"
   ]
  },
  {
   "cell_type": "code",
   "execution_count": 66,
   "id": "642368f9-1379-4b8e-90b1-ffba3e6357a2",
   "metadata": {},
   "outputs": [
    {
     "name": "stdout",
     "output_type": "stream",
     "text": [
      "7144 5000 2144\n"
     ]
    }
   ],
   "source": [
    "print(len(transaction_detail), len(transaction_detail_1), len(transaction_detail_2))"
   ]
  },
  {
   "cell_type": "markdown",
   "id": "7f2c599a-ab94-42c7-88eb-94b94368594a",
   "metadata": {},
   "source": [
    "## [003] 매출 데이터 결합(조인): pd.merge()"
   ]
  },
  {
   "cell_type": "code",
   "execution_count": 68,
   "id": "3e376808-e54b-485a-9a7a-b7d88f19c1cd",
   "metadata": {},
   "outputs": [
    {
     "data": {
      "text/html": [
       "<div>\n",
       "<style scoped>\n",
       "    .dataframe tbody tr th:only-of-type {\n",
       "        vertical-align: middle;\n",
       "    }\n",
       "\n",
       "    .dataframe tbody tr th {\n",
       "        vertical-align: top;\n",
       "    }\n",
       "\n",
       "    .dataframe thead th {\n",
       "        text-align: right;\n",
       "    }\n",
       "</style>\n",
       "<table border=\"1\" class=\"dataframe\">\n",
       "  <thead>\n",
       "    <tr style=\"text-align: right;\">\n",
       "      <th></th>\n",
       "      <th>detail_id</th>\n",
       "      <th>transaction_id</th>\n",
       "      <th>item_id</th>\n",
       "      <th>quantity</th>\n",
       "    </tr>\n",
       "  </thead>\n",
       "  <tbody>\n",
       "    <tr>\n",
       "      <th>0</th>\n",
       "      <td>0</td>\n",
       "      <td>T0000000113</td>\n",
       "      <td>S005</td>\n",
       "      <td>1</td>\n",
       "    </tr>\n",
       "  </tbody>\n",
       "</table>\n",
       "</div>"
      ],
      "text/plain": [
       "   detail_id transaction_id item_id  quantity\n",
       "0          0    T0000000113    S005         1"
      ]
     },
     "execution_count": 68,
     "metadata": {},
     "output_type": "execute_result"
    }
   ],
   "source": [
    "transaction_detail.head(1)"
   ]
  },
  {
   "cell_type": "code",
   "execution_count": 67,
   "id": "f0614cb5-4c87-44ee-857b-db23921126e5",
   "metadata": {},
   "outputs": [
    {
     "data": {
      "text/html": [
       "<div>\n",
       "<style scoped>\n",
       "    .dataframe tbody tr th:only-of-type {\n",
       "        vertical-align: middle;\n",
       "    }\n",
       "\n",
       "    .dataframe tbody tr th {\n",
       "        vertical-align: top;\n",
       "    }\n",
       "\n",
       "    .dataframe thead th {\n",
       "        text-align: right;\n",
       "    }\n",
       "</style>\n",
       "<table border=\"1\" class=\"dataframe\">\n",
       "  <thead>\n",
       "    <tr style=\"text-align: right;\">\n",
       "      <th></th>\n",
       "      <th>transaction_id</th>\n",
       "      <th>price</th>\n",
       "      <th>payment_date</th>\n",
       "      <th>customer_id</th>\n",
       "    </tr>\n",
       "  </thead>\n",
       "  <tbody>\n",
       "    <tr>\n",
       "      <th>0</th>\n",
       "      <td>T0000000113</td>\n",
       "      <td>210000</td>\n",
       "      <td>2019-02-01 01:36:57</td>\n",
       "      <td>PL563502</td>\n",
       "    </tr>\n",
       "  </tbody>\n",
       "</table>\n",
       "</div>"
      ],
      "text/plain": [
       "  transaction_id   price         payment_date customer_id\n",
       "0    T0000000113  210000  2019-02-01 01:36:57    PL563502"
      ]
     },
     "execution_count": 67,
     "metadata": {},
     "output_type": "execute_result"
    }
   ],
   "source": [
    "transaction.head(1)"
   ]
  },
  {
   "cell_type": "code",
   "execution_count": 100,
   "id": "6336cbde-cd5a-4c03-98ab-94a7c5611c85",
   "metadata": {},
   "outputs": [],
   "source": [
    "join_data = pd.merge(transaction_detail, \n",
    "                     transaction[['transaction_id', 'payment_date', 'customer_id']], \n",
    "                     how = 'left', \n",
    "                     on = 'transaction_id')"
   ]
  },
  {
   "cell_type": "code",
   "execution_count": 101,
   "id": "32fdf7f7-3c7a-4521-913c-48c52804533f",
   "metadata": {},
   "outputs": [
    {
     "data": {
      "text/html": [
       "<div>\n",
       "<style scoped>\n",
       "    .dataframe tbody tr th:only-of-type {\n",
       "        vertical-align: middle;\n",
       "    }\n",
       "\n",
       "    .dataframe tbody tr th {\n",
       "        vertical-align: top;\n",
       "    }\n",
       "\n",
       "    .dataframe thead th {\n",
       "        text-align: right;\n",
       "    }\n",
       "</style>\n",
       "<table border=\"1\" class=\"dataframe\">\n",
       "  <thead>\n",
       "    <tr style=\"text-align: right;\">\n",
       "      <th></th>\n",
       "      <th>detail_id</th>\n",
       "      <th>transaction_id</th>\n",
       "      <th>item_id</th>\n",
       "      <th>quantity</th>\n",
       "      <th>payment_date</th>\n",
       "      <th>customer_id</th>\n",
       "    </tr>\n",
       "  </thead>\n",
       "  <tbody>\n",
       "    <tr>\n",
       "      <th>0</th>\n",
       "      <td>0</td>\n",
       "      <td>T0000000113</td>\n",
       "      <td>S005</td>\n",
       "      <td>1</td>\n",
       "      <td>2019-02-01 01:36:57</td>\n",
       "      <td>PL563502</td>\n",
       "    </tr>\n",
       "    <tr>\n",
       "      <th>1</th>\n",
       "      <td>1</td>\n",
       "      <td>T0000000114</td>\n",
       "      <td>S001</td>\n",
       "      <td>1</td>\n",
       "      <td>2019-02-01 01:37:23</td>\n",
       "      <td>HD678019</td>\n",
       "    </tr>\n",
       "    <tr>\n",
       "      <th>2</th>\n",
       "      <td>2</td>\n",
       "      <td>T0000000115</td>\n",
       "      <td>S003</td>\n",
       "      <td>1</td>\n",
       "      <td>2019-02-01 02:34:19</td>\n",
       "      <td>HD298120</td>\n",
       "    </tr>\n",
       "    <tr>\n",
       "      <th>3</th>\n",
       "      <td>3</td>\n",
       "      <td>T0000000116</td>\n",
       "      <td>S005</td>\n",
       "      <td>1</td>\n",
       "      <td>2019-02-01 02:47:23</td>\n",
       "      <td>IK452215</td>\n",
       "    </tr>\n",
       "    <tr>\n",
       "      <th>4</th>\n",
       "      <td>4</td>\n",
       "      <td>T0000000117</td>\n",
       "      <td>S002</td>\n",
       "      <td>2</td>\n",
       "      <td>2019-02-01 04:33:46</td>\n",
       "      <td>PL542865</td>\n",
       "    </tr>\n",
       "  </tbody>\n",
       "</table>\n",
       "</div>"
      ],
      "text/plain": [
       "   detail_id transaction_id item_id  quantity         payment_date customer_id\n",
       "0          0    T0000000113    S005         1  2019-02-01 01:36:57    PL563502\n",
       "1          1    T0000000114    S001         1  2019-02-01 01:37:23    HD678019\n",
       "2          2    T0000000115    S003         1  2019-02-01 02:34:19    HD298120\n",
       "3          3    T0000000116    S005         1  2019-02-01 02:47:23    IK452215\n",
       "4          4    T0000000117    S002         2  2019-02-01 04:33:46    PL542865"
      ]
     },
     "execution_count": 104,
     "metadata": {},
     "output_type": "execute_result"
    }
   ],
   "source": [
    "join_data.head()"
   ]
  },
  {
   "cell_type": "code",
   "execution_count": 102,
   "id": "228168db-9ea4-4a6c-88ba-d070d980a2d2",
   "metadata": {},
   "outputs": [
    {
     "data": {
      "text/plain": [
       "7144"
      ]
     },
     "execution_count": 105,
     "metadata": {},
     "output_type": "execute_result"
    }
   ],
   "source": [
    "join_data.shape[0]"
   ]
  },
  {
   "cell_type": "markdown",
   "id": "f8977aa1-00a9-47ff-b5e9-8225cc62e77f",
   "metadata": {},
   "source": [
    "## [004] 마스터데이터 결합(조인): pd.merge()"
   ]
  },
  {
   "cell_type": "code",
   "execution_count": 106,
   "id": "2ce25653-0a1f-4fbb-bf2e-5bf0b1bbc056",
   "metadata": {},
   "outputs": [],
   "source": [
    "join_data = pd.merge(join_data, \n",
    "                     customer_master, \n",
    "                     how='left',\n",
    "                     on='customer_id')"
   ]
  },
  {
   "cell_type": "code",
   "execution_count": 108,
   "id": "6b3f8804-cb34-4450-a978-49baaf48ad02",
   "metadata": {},
   "outputs": [],
   "source": [
    "join_data = pd.merge(join_data,\n",
    "                     item_master,\n",
    "                     how='left',\n",
    "                     on='item_id')"
   ]
  },
  {
   "cell_type": "code",
   "execution_count": 109,
   "id": "70e7fa35-af04-46ca-9e60-d0a3846b8921",
   "metadata": {},
   "outputs": [
    {
     "data": {
      "text/plain": [
       "(7144, 15)"
      ]
     },
     "execution_count": 109,
     "metadata": {},
     "output_type": "execute_result"
    }
   ],
   "source": [
    "join_data.shape"
   ]
  },
  {
   "cell_type": "code",
   "execution_count": 111,
   "id": "fbd80692-4862-426d-a9e7-ee2359fe9d3f",
   "metadata": {},
   "outputs": [
    {
     "data": {
      "text/html": [
       "<div>\n",
       "<style scoped>\n",
       "    .dataframe tbody tr th:only-of-type {\n",
       "        vertical-align: middle;\n",
       "    }\n",
       "\n",
       "    .dataframe tbody tr th {\n",
       "        vertical-align: top;\n",
       "    }\n",
       "\n",
       "    .dataframe thead th {\n",
       "        text-align: right;\n",
       "    }\n",
       "</style>\n",
       "<table border=\"1\" class=\"dataframe\">\n",
       "  <thead>\n",
       "    <tr style=\"text-align: right;\">\n",
       "      <th></th>\n",
       "      <th>detail_id</th>\n",
       "      <th>transaction_id</th>\n",
       "      <th>item_id</th>\n",
       "      <th>quantity</th>\n",
       "      <th>payment_date</th>\n",
       "      <th>customer_id</th>\n",
       "      <th>customer_name</th>\n",
       "      <th>registration_date</th>\n",
       "      <th>email</th>\n",
       "      <th>gender</th>\n",
       "      <th>age</th>\n",
       "      <th>birth</th>\n",
       "      <th>pref</th>\n",
       "      <th>item_name</th>\n",
       "      <th>item_price</th>\n",
       "    </tr>\n",
       "  </thead>\n",
       "  <tbody>\n",
       "    <tr>\n",
       "      <th>0</th>\n",
       "      <td>0</td>\n",
       "      <td>T0000000113</td>\n",
       "      <td>S005</td>\n",
       "      <td>1</td>\n",
       "      <td>2019-02-01 01:36:57</td>\n",
       "      <td>PL563502</td>\n",
       "      <td>김태경</td>\n",
       "      <td>2019-01-07 14:34</td>\n",
       "      <td>imoto_yoshimasa@example.com</td>\n",
       "      <td>M</td>\n",
       "      <td>30</td>\n",
       "      <td>1989-07-15</td>\n",
       "      <td>대전광역시</td>\n",
       "      <td>PC-E</td>\n",
       "      <td>210000</td>\n",
       "    </tr>\n",
       "  </tbody>\n",
       "</table>\n",
       "</div>"
      ],
      "text/plain": [
       "   detail_id transaction_id item_id  quantity         payment_date  \\\n",
       "0          0    T0000000113    S005         1  2019-02-01 01:36:57   \n",
       "\n",
       "  customer_id customer_name registration_date                        email  \\\n",
       "0    PL563502           김태경  2019-01-07 14:34  imoto_yoshimasa@example.com   \n",
       "\n",
       "  gender  age       birth   pref item_name  item_price  \n",
       "0      M   30  1989-07-15  대전광역시      PC-E      210000  "
      ]
     },
     "execution_count": 111,
     "metadata": {},
     "output_type": "execute_result"
    }
   ],
   "source": [
    "join_data.head(1)"
   ]
  },
  {
   "cell_type": "markdown",
   "id": "2b67097e-0647-4bbb-9f0b-dac23695a110",
   "metadata": {},
   "source": [
    "## [005] 필요한 데이터 컬럼 생성"
   ]
  },
  {
   "cell_type": "markdown",
   "id": "cca16a66-2de4-4a65-b3ad-0be9b249a945",
   "metadata": {},
   "source": [
    "### * df['new_col_name'] = ..."
   ]
  },
  {
   "cell_type": "code",
   "execution_count": 114,
   "id": "3f07e229-0bbb-45e2-87c2-0640b00acabd",
   "metadata": {},
   "outputs": [],
   "source": [
    "join_data['price'] = join_data['quantity'] * join_data['item_price']"
   ]
  },
  {
   "cell_type": "code",
   "execution_count": 116,
   "id": "58fa2f81-444e-4bf7-ad20-24a137cba16a",
   "metadata": {},
   "outputs": [
    {
     "data": {
      "text/html": [
       "<div>\n",
       "<style scoped>\n",
       "    .dataframe tbody tr th:only-of-type {\n",
       "        vertical-align: middle;\n",
       "    }\n",
       "\n",
       "    .dataframe tbody tr th {\n",
       "        vertical-align: top;\n",
       "    }\n",
       "\n",
       "    .dataframe thead th {\n",
       "        text-align: right;\n",
       "    }\n",
       "</style>\n",
       "<table border=\"1\" class=\"dataframe\">\n",
       "  <thead>\n",
       "    <tr style=\"text-align: right;\">\n",
       "      <th></th>\n",
       "      <th>quantity</th>\n",
       "      <th>item_price</th>\n",
       "      <th>price</th>\n",
       "    </tr>\n",
       "  </thead>\n",
       "  <tbody>\n",
       "    <tr>\n",
       "      <th>0</th>\n",
       "      <td>1</td>\n",
       "      <td>210000</td>\n",
       "      <td>210000</td>\n",
       "    </tr>\n",
       "    <tr>\n",
       "      <th>1</th>\n",
       "      <td>1</td>\n",
       "      <td>50000</td>\n",
       "      <td>50000</td>\n",
       "    </tr>\n",
       "    <tr>\n",
       "      <th>2</th>\n",
       "      <td>1</td>\n",
       "      <td>120000</td>\n",
       "      <td>120000</td>\n",
       "    </tr>\n",
       "    <tr>\n",
       "      <th>3</th>\n",
       "      <td>1</td>\n",
       "      <td>210000</td>\n",
       "      <td>210000</td>\n",
       "    </tr>\n",
       "    <tr>\n",
       "      <th>4</th>\n",
       "      <td>2</td>\n",
       "      <td>85000</td>\n",
       "      <td>170000</td>\n",
       "    </tr>\n",
       "  </tbody>\n",
       "</table>\n",
       "</div>"
      ],
      "text/plain": [
       "   quantity  item_price   price\n",
       "0         1      210000  210000\n",
       "1         1       50000   50000\n",
       "2         1      120000  120000\n",
       "3         1      210000  210000\n",
       "4         2       85000  170000"
      ]
     },
     "execution_count": 116,
     "metadata": {},
     "output_type": "execute_result"
    }
   ],
   "source": [
    "join_data[['quantity', 'item_price', 'price']].head()"
   ]
  },
  {
   "cell_type": "markdown",
   "id": "37471f30-1517-4480-9dae-a46eb6b681b9",
   "metadata": {},
   "source": [
    "### * df.assign(new_col_name = lambda x: x...)"
   ]
  },
  {
   "cell_type": "code",
   "execution_count": 158,
   "id": "b8f027f0-89a4-4f11-8923-9b789e8e947c",
   "metadata": {},
   "outputs": [
    {
     "data": {
      "text/html": [
       "<div>\n",
       "<style scoped>\n",
       "    .dataframe tbody tr th:only-of-type {\n",
       "        vertical-align: middle;\n",
       "    }\n",
       "\n",
       "    .dataframe tbody tr th {\n",
       "        vertical-align: top;\n",
       "    }\n",
       "\n",
       "    .dataframe thead th {\n",
       "        text-align: right;\n",
       "    }\n",
       "</style>\n",
       "<table border=\"1\" class=\"dataframe\">\n",
       "  <thead>\n",
       "    <tr style=\"text-align: right;\">\n",
       "      <th></th>\n",
       "      <th>price</th>\n",
       "      <th>price2</th>\n",
       "    </tr>\n",
       "  </thead>\n",
       "  <tbody>\n",
       "    <tr>\n",
       "      <th>0</th>\n",
       "      <td>210000</td>\n",
       "      <td>210000</td>\n",
       "    </tr>\n",
       "    <tr>\n",
       "      <th>1</th>\n",
       "      <td>50000</td>\n",
       "      <td>50000</td>\n",
       "    </tr>\n",
       "    <tr>\n",
       "      <th>2</th>\n",
       "      <td>120000</td>\n",
       "      <td>120000</td>\n",
       "    </tr>\n",
       "    <tr>\n",
       "      <th>3</th>\n",
       "      <td>210000</td>\n",
       "      <td>210000</td>\n",
       "    </tr>\n",
       "    <tr>\n",
       "      <th>4</th>\n",
       "      <td>170000</td>\n",
       "      <td>170000</td>\n",
       "    </tr>\n",
       "    <tr>\n",
       "      <th>...</th>\n",
       "      <td>...</td>\n",
       "      <td>...</td>\n",
       "    </tr>\n",
       "    <tr>\n",
       "      <th>7139</th>\n",
       "      <td>180000</td>\n",
       "      <td>180000</td>\n",
       "    </tr>\n",
       "    <tr>\n",
       "      <th>7140</th>\n",
       "      <td>85000</td>\n",
       "      <td>85000</td>\n",
       "    </tr>\n",
       "    <tr>\n",
       "      <th>7141</th>\n",
       "      <td>100000</td>\n",
       "      <td>100000</td>\n",
       "    </tr>\n",
       "    <tr>\n",
       "      <th>7142</th>\n",
       "      <td>85000</td>\n",
       "      <td>85000</td>\n",
       "    </tr>\n",
       "    <tr>\n",
       "      <th>7143</th>\n",
       "      <td>85000</td>\n",
       "      <td>85000</td>\n",
       "    </tr>\n",
       "  </tbody>\n",
       "</table>\n",
       "<p>7144 rows × 2 columns</p>\n",
       "</div>"
      ],
      "text/plain": [
       "       price  price2\n",
       "0     210000  210000\n",
       "1      50000   50000\n",
       "2     120000  120000\n",
       "3     210000  210000\n",
       "4     170000  170000\n",
       "...      ...     ...\n",
       "7139  180000  180000\n",
       "7140   85000   85000\n",
       "7141  100000  100000\n",
       "7142   85000   85000\n",
       "7143   85000   85000\n",
       "\n",
       "[7144 rows x 2 columns]"
      ]
     },
     "execution_count": 158,
     "metadata": {},
     "output_type": "execute_result"
    }
   ],
   "source": [
    "join_data.assign(price2 = lambda x: x['quantity'] * x['item_price'])[['price', 'price2']]"
   ]
  },
  {
   "cell_type": "markdown",
   "id": "802a62c9-f2ae-4553-8c56-b576f3dae436",
   "metadata": {},
   "source": [
    "## [006] 데이터 검산"
   ]
  },
  {
   "cell_type": "code",
   "execution_count": 117,
   "id": "82626c4f-156e-4b67-9738-d512f93e75f6",
   "metadata": {},
   "outputs": [
    {
     "data": {
      "text/plain": [
       "971135000"
      ]
     },
     "execution_count": 117,
     "metadata": {},
     "output_type": "execute_result"
    }
   ],
   "source": [
    "join_data['price'].sum()"
   ]
  },
  {
   "cell_type": "code",
   "execution_count": 118,
   "id": "08ab03b4-2b61-4b4b-8399-878349f08c8e",
   "metadata": {},
   "outputs": [
    {
     "data": {
      "text/plain": [
       "971135000"
      ]
     },
     "execution_count": 118,
     "metadata": {},
     "output_type": "execute_result"
    }
   ],
   "source": [
    "transaction['price'].sum()"
   ]
  },
  {
   "cell_type": "code",
   "execution_count": 120,
   "id": "648e05ea-b212-4156-8d9a-b2edb2804e12",
   "metadata": {},
   "outputs": [
    {
     "data": {
      "text/plain": [
       "True"
      ]
     },
     "execution_count": 120,
     "metadata": {},
     "output_type": "execute_result"
    }
   ],
   "source": [
    "join_data['price'].sum() == transaction['price'].sum()"
   ]
  },
  {
   "cell_type": "markdown",
   "id": "2addaa3f-8a5c-4d25-aacd-8c5936674e25",
   "metadata": {},
   "source": [
    "## [007] 각종 통계량 파악"
   ]
  },
  {
   "cell_type": "markdown",
   "id": "4a8dd2bd-6043-416c-8f94-fd4592c9db0d",
   "metadata": {},
   "source": [
    "### * 결측치 파악: df.isnull().sum()"
   ]
  },
  {
   "cell_type": "code",
   "execution_count": 126,
   "id": "46cf434e-0bad-4c23-9be8-ed33e055a844",
   "metadata": {},
   "outputs": [
    {
     "data": {
      "text/plain": [
       "detail_id            0\n",
       "transaction_id       0\n",
       "item_id              0\n",
       "quantity             0\n",
       "payment_date         0\n",
       "customer_id          0\n",
       "customer_name        0\n",
       "registration_date    0\n",
       "email                0\n",
       "gender               0\n",
       "age                  0\n",
       "birth                0\n",
       "pref                 0\n",
       "item_name            0\n",
       "item_price           0\n",
       "price                0\n",
       "dtype: int64"
      ]
     },
     "execution_count": 126,
     "metadata": {},
     "output_type": "execute_result"
    }
   ],
   "source": [
    "join_data.isnull().sum()"
   ]
  },
  {
   "cell_type": "markdown",
   "id": "6cbb09f5-8d68-47d9-aff5-b8ddfae0e8e6",
   "metadata": {},
   "source": [
    "### * 전체적인 숫자감 파악: df.describe()"
   ]
  },
  {
   "cell_type": "code",
   "execution_count": 127,
   "id": "6ba46d43-86da-4095-b0a0-c0dc7ee55201",
   "metadata": {},
   "outputs": [
    {
     "data": {
      "text/html": [
       "<div>\n",
       "<style scoped>\n",
       "    .dataframe tbody tr th:only-of-type {\n",
       "        vertical-align: middle;\n",
       "    }\n",
       "\n",
       "    .dataframe tbody tr th {\n",
       "        vertical-align: top;\n",
       "    }\n",
       "\n",
       "    .dataframe thead th {\n",
       "        text-align: right;\n",
       "    }\n",
       "</style>\n",
       "<table border=\"1\" class=\"dataframe\">\n",
       "  <thead>\n",
       "    <tr style=\"text-align: right;\">\n",
       "      <th></th>\n",
       "      <th>detail_id</th>\n",
       "      <th>quantity</th>\n",
       "      <th>age</th>\n",
       "      <th>item_price</th>\n",
       "      <th>price</th>\n",
       "    </tr>\n",
       "  </thead>\n",
       "  <tbody>\n",
       "    <tr>\n",
       "      <th>count</th>\n",
       "      <td>7144.000000</td>\n",
       "      <td>7144.000000</td>\n",
       "      <td>7144.000000</td>\n",
       "      <td>7144.000000</td>\n",
       "      <td>7144.000000</td>\n",
       "    </tr>\n",
       "    <tr>\n",
       "      <th>mean</th>\n",
       "      <td>3571.500000</td>\n",
       "      <td>1.199888</td>\n",
       "      <td>50.265677</td>\n",
       "      <td>121698.628219</td>\n",
       "      <td>135937.150056</td>\n",
       "    </tr>\n",
       "    <tr>\n",
       "      <th>std</th>\n",
       "      <td>2062.439494</td>\n",
       "      <td>0.513647</td>\n",
       "      <td>17.190314</td>\n",
       "      <td>64571.311830</td>\n",
       "      <td>68511.453297</td>\n",
       "    </tr>\n",
       "    <tr>\n",
       "      <th>min</th>\n",
       "      <td>0.000000</td>\n",
       "      <td>1.000000</td>\n",
       "      <td>20.000000</td>\n",
       "      <td>50000.000000</td>\n",
       "      <td>50000.000000</td>\n",
       "    </tr>\n",
       "    <tr>\n",
       "      <th>25%</th>\n",
       "      <td>1785.750000</td>\n",
       "      <td>1.000000</td>\n",
       "      <td>36.000000</td>\n",
       "      <td>50000.000000</td>\n",
       "      <td>85000.000000</td>\n",
       "    </tr>\n",
       "    <tr>\n",
       "      <th>50%</th>\n",
       "      <td>3571.500000</td>\n",
       "      <td>1.000000</td>\n",
       "      <td>50.000000</td>\n",
       "      <td>102500.000000</td>\n",
       "      <td>120000.000000</td>\n",
       "    </tr>\n",
       "    <tr>\n",
       "      <th>75%</th>\n",
       "      <td>5357.250000</td>\n",
       "      <td>1.000000</td>\n",
       "      <td>65.000000</td>\n",
       "      <td>187500.000000</td>\n",
       "      <td>210000.000000</td>\n",
       "    </tr>\n",
       "    <tr>\n",
       "      <th>max</th>\n",
       "      <td>7143.000000</td>\n",
       "      <td>4.000000</td>\n",
       "      <td>80.000000</td>\n",
       "      <td>210000.000000</td>\n",
       "      <td>420000.000000</td>\n",
       "    </tr>\n",
       "  </tbody>\n",
       "</table>\n",
       "</div>"
      ],
      "text/plain": [
       "         detail_id     quantity          age     item_price          price\n",
       "count  7144.000000  7144.000000  7144.000000    7144.000000    7144.000000\n",
       "mean   3571.500000     1.199888    50.265677  121698.628219  135937.150056\n",
       "std    2062.439494     0.513647    17.190314   64571.311830   68511.453297\n",
       "min       0.000000     1.000000    20.000000   50000.000000   50000.000000\n",
       "25%    1785.750000     1.000000    36.000000   50000.000000   85000.000000\n",
       "50%    3571.500000     1.000000    50.000000  102500.000000  120000.000000\n",
       "75%    5357.250000     1.000000    65.000000  187500.000000  210000.000000\n",
       "max    7143.000000     4.000000    80.000000  210000.000000  420000.000000"
      ]
     },
     "execution_count": 127,
     "metadata": {},
     "output_type": "execute_result"
    }
   ],
   "source": [
    "join_data.describe()"
   ]
  },
  {
   "cell_type": "code",
   "execution_count": 129,
   "id": "47f127c8-8765-4cfa-97c7-73b8462441ff",
   "metadata": {},
   "outputs": [
    {
     "data": {
      "text/html": [
       "<div>\n",
       "<style scoped>\n",
       "    .dataframe tbody tr th:only-of-type {\n",
       "        vertical-align: middle;\n",
       "    }\n",
       "\n",
       "    .dataframe tbody tr th {\n",
       "        vertical-align: top;\n",
       "    }\n",
       "\n",
       "    .dataframe thead th {\n",
       "        text-align: right;\n",
       "    }\n",
       "</style>\n",
       "<table border=\"1\" class=\"dataframe\">\n",
       "  <thead>\n",
       "    <tr style=\"text-align: right;\">\n",
       "      <th></th>\n",
       "      <th>detail_id</th>\n",
       "      <th>transaction_id</th>\n",
       "      <th>item_id</th>\n",
       "      <th>quantity</th>\n",
       "      <th>payment_date</th>\n",
       "      <th>customer_id</th>\n",
       "      <th>customer_name</th>\n",
       "      <th>registration_date</th>\n",
       "      <th>email</th>\n",
       "      <th>gender</th>\n",
       "      <th>age</th>\n",
       "      <th>birth</th>\n",
       "      <th>pref</th>\n",
       "      <th>item_name</th>\n",
       "      <th>item_price</th>\n",
       "      <th>price</th>\n",
       "    </tr>\n",
       "  </thead>\n",
       "  <tbody>\n",
       "    <tr>\n",
       "      <th>count</th>\n",
       "      <td>7144.000000</td>\n",
       "      <td>7144</td>\n",
       "      <td>7144</td>\n",
       "      <td>7144.000000</td>\n",
       "      <td>7144</td>\n",
       "      <td>7144</td>\n",
       "      <td>7144</td>\n",
       "      <td>7144</td>\n",
       "      <td>7144</td>\n",
       "      <td>7144</td>\n",
       "      <td>7144.000000</td>\n",
       "      <td>7144</td>\n",
       "      <td>7144</td>\n",
       "      <td>7144</td>\n",
       "      <td>7144.000000</td>\n",
       "      <td>7144.000000</td>\n",
       "    </tr>\n",
       "    <tr>\n",
       "      <th>unique</th>\n",
       "      <td>NaN</td>\n",
       "      <td>6786</td>\n",
       "      <td>5</td>\n",
       "      <td>NaN</td>\n",
       "      <td>6785</td>\n",
       "      <td>3018</td>\n",
       "      <td>3018</td>\n",
       "      <td>2996</td>\n",
       "      <td>3018</td>\n",
       "      <td>2</td>\n",
       "      <td>NaN</td>\n",
       "      <td>2809</td>\n",
       "      <td>7</td>\n",
       "      <td>5</td>\n",
       "      <td>NaN</td>\n",
       "      <td>NaN</td>\n",
       "    </tr>\n",
       "    <tr>\n",
       "      <th>top</th>\n",
       "      <td>NaN</td>\n",
       "      <td>T0000000790</td>\n",
       "      <td>S001</td>\n",
       "      <td>NaN</td>\n",
       "      <td>2019-02-18 15:11:38</td>\n",
       "      <td>AS237205</td>\n",
       "      <td>김로이</td>\n",
       "      <td>2019-01-19 15:53</td>\n",
       "      <td>kadota_miduki@example.com</td>\n",
       "      <td>M</td>\n",
       "      <td>NaN</td>\n",
       "      <td>1947-06-17</td>\n",
       "      <td>인천광역시</td>\n",
       "      <td>PC-A</td>\n",
       "      <td>NaN</td>\n",
       "      <td>NaN</td>\n",
       "    </tr>\n",
       "    <tr>\n",
       "      <th>freq</th>\n",
       "      <td>NaN</td>\n",
       "      <td>4</td>\n",
       "      <td>2143</td>\n",
       "      <td>NaN</td>\n",
       "      <td>4</td>\n",
       "      <td>13</td>\n",
       "      <td>13</td>\n",
       "      <td>13</td>\n",
       "      <td>13</td>\n",
       "      <td>3596</td>\n",
       "      <td>NaN</td>\n",
       "      <td>13</td>\n",
       "      <td>1524</td>\n",
       "      <td>2143</td>\n",
       "      <td>NaN</td>\n",
       "      <td>NaN</td>\n",
       "    </tr>\n",
       "    <tr>\n",
       "      <th>mean</th>\n",
       "      <td>3571.500000</td>\n",
       "      <td>NaN</td>\n",
       "      <td>NaN</td>\n",
       "      <td>1.199888</td>\n",
       "      <td>NaN</td>\n",
       "      <td>NaN</td>\n",
       "      <td>NaN</td>\n",
       "      <td>NaN</td>\n",
       "      <td>NaN</td>\n",
       "      <td>NaN</td>\n",
       "      <td>50.265677</td>\n",
       "      <td>NaN</td>\n",
       "      <td>NaN</td>\n",
       "      <td>NaN</td>\n",
       "      <td>121698.628219</td>\n",
       "      <td>135937.150056</td>\n",
       "    </tr>\n",
       "    <tr>\n",
       "      <th>std</th>\n",
       "      <td>2062.439494</td>\n",
       "      <td>NaN</td>\n",
       "      <td>NaN</td>\n",
       "      <td>0.513647</td>\n",
       "      <td>NaN</td>\n",
       "      <td>NaN</td>\n",
       "      <td>NaN</td>\n",
       "      <td>NaN</td>\n",
       "      <td>NaN</td>\n",
       "      <td>NaN</td>\n",
       "      <td>17.190314</td>\n",
       "      <td>NaN</td>\n",
       "      <td>NaN</td>\n",
       "      <td>NaN</td>\n",
       "      <td>64571.311830</td>\n",
       "      <td>68511.453297</td>\n",
       "    </tr>\n",
       "    <tr>\n",
       "      <th>min</th>\n",
       "      <td>0.000000</td>\n",
       "      <td>NaN</td>\n",
       "      <td>NaN</td>\n",
       "      <td>1.000000</td>\n",
       "      <td>NaN</td>\n",
       "      <td>NaN</td>\n",
       "      <td>NaN</td>\n",
       "      <td>NaN</td>\n",
       "      <td>NaN</td>\n",
       "      <td>NaN</td>\n",
       "      <td>20.000000</td>\n",
       "      <td>NaN</td>\n",
       "      <td>NaN</td>\n",
       "      <td>NaN</td>\n",
       "      <td>50000.000000</td>\n",
       "      <td>50000.000000</td>\n",
       "    </tr>\n",
       "    <tr>\n",
       "      <th>25%</th>\n",
       "      <td>1785.750000</td>\n",
       "      <td>NaN</td>\n",
       "      <td>NaN</td>\n",
       "      <td>1.000000</td>\n",
       "      <td>NaN</td>\n",
       "      <td>NaN</td>\n",
       "      <td>NaN</td>\n",
       "      <td>NaN</td>\n",
       "      <td>NaN</td>\n",
       "      <td>NaN</td>\n",
       "      <td>36.000000</td>\n",
       "      <td>NaN</td>\n",
       "      <td>NaN</td>\n",
       "      <td>NaN</td>\n",
       "      <td>50000.000000</td>\n",
       "      <td>85000.000000</td>\n",
       "    </tr>\n",
       "    <tr>\n",
       "      <th>50%</th>\n",
       "      <td>3571.500000</td>\n",
       "      <td>NaN</td>\n",
       "      <td>NaN</td>\n",
       "      <td>1.000000</td>\n",
       "      <td>NaN</td>\n",
       "      <td>NaN</td>\n",
       "      <td>NaN</td>\n",
       "      <td>NaN</td>\n",
       "      <td>NaN</td>\n",
       "      <td>NaN</td>\n",
       "      <td>50.000000</td>\n",
       "      <td>NaN</td>\n",
       "      <td>NaN</td>\n",
       "      <td>NaN</td>\n",
       "      <td>102500.000000</td>\n",
       "      <td>120000.000000</td>\n",
       "    </tr>\n",
       "    <tr>\n",
       "      <th>75%</th>\n",
       "      <td>5357.250000</td>\n",
       "      <td>NaN</td>\n",
       "      <td>NaN</td>\n",
       "      <td>1.000000</td>\n",
       "      <td>NaN</td>\n",
       "      <td>NaN</td>\n",
       "      <td>NaN</td>\n",
       "      <td>NaN</td>\n",
       "      <td>NaN</td>\n",
       "      <td>NaN</td>\n",
       "      <td>65.000000</td>\n",
       "      <td>NaN</td>\n",
       "      <td>NaN</td>\n",
       "      <td>NaN</td>\n",
       "      <td>187500.000000</td>\n",
       "      <td>210000.000000</td>\n",
       "    </tr>\n",
       "    <tr>\n",
       "      <th>max</th>\n",
       "      <td>7143.000000</td>\n",
       "      <td>NaN</td>\n",
       "      <td>NaN</td>\n",
       "      <td>4.000000</td>\n",
       "      <td>NaN</td>\n",
       "      <td>NaN</td>\n",
       "      <td>NaN</td>\n",
       "      <td>NaN</td>\n",
       "      <td>NaN</td>\n",
       "      <td>NaN</td>\n",
       "      <td>80.000000</td>\n",
       "      <td>NaN</td>\n",
       "      <td>NaN</td>\n",
       "      <td>NaN</td>\n",
       "      <td>210000.000000</td>\n",
       "      <td>420000.000000</td>\n",
       "    </tr>\n",
       "  </tbody>\n",
       "</table>\n",
       "</div>"
      ],
      "text/plain": [
       "          detail_id transaction_id item_id     quantity         payment_date  \\\n",
       "count   7144.000000           7144    7144  7144.000000                 7144   \n",
       "unique          NaN           6786       5          NaN                 6785   \n",
       "top             NaN    T0000000790    S001          NaN  2019-02-18 15:11:38   \n",
       "freq            NaN              4    2143          NaN                    4   \n",
       "mean    3571.500000            NaN     NaN     1.199888                  NaN   \n",
       "std     2062.439494            NaN     NaN     0.513647                  NaN   \n",
       "min        0.000000            NaN     NaN     1.000000                  NaN   \n",
       "25%     1785.750000            NaN     NaN     1.000000                  NaN   \n",
       "50%     3571.500000            NaN     NaN     1.000000                  NaN   \n",
       "75%     5357.250000            NaN     NaN     1.000000                  NaN   \n",
       "max     7143.000000            NaN     NaN     4.000000                  NaN   \n",
       "\n",
       "       customer_id customer_name registration_date                      email  \\\n",
       "count         7144          7144              7144                       7144   \n",
       "unique        3018          3018              2996                       3018   \n",
       "top       AS237205           김로이  2019-01-19 15:53  kadota_miduki@example.com   \n",
       "freq            13            13                13                         13   \n",
       "mean           NaN           NaN               NaN                        NaN   \n",
       "std            NaN           NaN               NaN                        NaN   \n",
       "min            NaN           NaN               NaN                        NaN   \n",
       "25%            NaN           NaN               NaN                        NaN   \n",
       "50%            NaN           NaN               NaN                        NaN   \n",
       "75%            NaN           NaN               NaN                        NaN   \n",
       "max            NaN           NaN               NaN                        NaN   \n",
       "\n",
       "       gender          age       birth   pref item_name     item_price  \\\n",
       "count    7144  7144.000000        7144   7144      7144    7144.000000   \n",
       "unique      2          NaN        2809      7         5            NaN   \n",
       "top         M          NaN  1947-06-17  인천광역시      PC-A            NaN   \n",
       "freq     3596          NaN          13   1524      2143            NaN   \n",
       "mean      NaN    50.265677         NaN    NaN       NaN  121698.628219   \n",
       "std       NaN    17.190314         NaN    NaN       NaN   64571.311830   \n",
       "min       NaN    20.000000         NaN    NaN       NaN   50000.000000   \n",
       "25%       NaN    36.000000         NaN    NaN       NaN   50000.000000   \n",
       "50%       NaN    50.000000         NaN    NaN       NaN  102500.000000   \n",
       "75%       NaN    65.000000         NaN    NaN       NaN  187500.000000   \n",
       "max       NaN    80.000000         NaN    NaN       NaN  210000.000000   \n",
       "\n",
       "                price  \n",
       "count     7144.000000  \n",
       "unique            NaN  \n",
       "top               NaN  \n",
       "freq              NaN  \n",
       "mean    135937.150056  \n",
       "std      68511.453297  \n",
       "min      50000.000000  \n",
       "25%      85000.000000  \n",
       "50%     120000.000000  \n",
       "75%     210000.000000  \n",
       "max     420000.000000  "
      ]
     },
     "execution_count": 129,
     "metadata": {},
     "output_type": "execute_result"
    }
   ],
   "source": [
    "join_data.describe(include = 'all')"
   ]
  },
  {
   "cell_type": "markdown",
   "id": "1d66c151-511c-45ad-884c-f0bc7119d10e",
   "metadata": {},
   "source": [
    "### * 데이터 날짜(기간) 파악: df.min(), df.max()"
   ]
  },
  {
   "cell_type": "code",
   "execution_count": 130,
   "id": "9eed2ccc-47e3-44d8-81ab-6c256743683e",
   "metadata": {},
   "outputs": [
    {
     "data": {
      "text/plain": [
       "'2019-02-01 01:36:57'"
      ]
     },
     "execution_count": 130,
     "metadata": {},
     "output_type": "execute_result"
    }
   ],
   "source": [
    "join_data['payment_date'].min()"
   ]
  },
  {
   "cell_type": "code",
   "execution_count": 131,
   "id": "c99c2e14-d01a-45b7-afed-e626c6a8ea01",
   "metadata": {},
   "outputs": [
    {
     "data": {
      "text/plain": [
       "'2019-07-31 23:41:38'"
      ]
     },
     "execution_count": 131,
     "metadata": {},
     "output_type": "execute_result"
    }
   ],
   "source": [
    "join_data['payment_date'].max()"
   ]
  },
  {
   "cell_type": "markdown",
   "id": "fe7f1656-485b-4005-a90f-ec2c776c38e2",
   "metadata": {},
   "source": [
    "## [008] 월별 데이터 집계"
   ]
  },
  {
   "cell_type": "markdown",
   "id": "10294dae-6354-4a5c-8465-fe553a0f4ac9",
   "metadata": {},
   "source": [
    "### * 날짜 데이터 자료형 파악: df.dtypes"
   ]
  },
  {
   "cell_type": "code",
   "execution_count": 135,
   "id": "c57cfe5c-dead-4296-a558-59eb7cbf70f8",
   "metadata": {},
   "outputs": [
    {
     "data": {
      "text/plain": [
       "detail_id             int64\n",
       "transaction_id       object\n",
       "item_id              object\n",
       "quantity              int64\n",
       "payment_date         object\n",
       "customer_id          object\n",
       "customer_name        object\n",
       "registration_date    object\n",
       "email                object\n",
       "gender               object\n",
       "age                   int64\n",
       "birth                object\n",
       "pref                 object\n",
       "item_name            object\n",
       "item_price            int64\n",
       "price                 int64\n",
       "dtype: object"
      ]
     },
     "execution_count": 135,
     "metadata": {},
     "output_type": "execute_result"
    }
   ],
   "source": [
    "join_data.dtypes\n",
    "# payment_date         object"
   ]
  },
  {
   "cell_type": "markdown",
   "id": "ddc6e603-e5a0-472f-895c-0312c48d8482",
   "metadata": {},
   "source": [
    "### * datetime 자료형으로 변환: pd.to_datetime()"
   ]
  },
  {
   "cell_type": "code",
   "execution_count": 136,
   "id": "878a114b-885b-4f39-870d-38a20509c185",
   "metadata": {},
   "outputs": [],
   "source": [
    "join_data['payment_date'] = pd.to_datetime(join_data['payment_date'])"
   ]
  },
  {
   "cell_type": "code",
   "execution_count": 140,
   "id": "e129d40a-2f49-4a67-ae17-41e16af70c24",
   "metadata": {},
   "outputs": [],
   "source": [
    "join_data['payment_year'] = join_data['payment_date'].dt.year\n",
    "join_data['payment_month'] = join_data['payment_date'].dt.month"
   ]
  },
  {
   "cell_type": "code",
   "execution_count": 141,
   "id": "c48c323c-4137-4586-94f3-c3238a66aa52",
   "metadata": {},
   "outputs": [],
   "source": [
    "join_data['payment_year_month'] = join_data['payment_date'].dt.strftime('%Y%m')"
   ]
  },
  {
   "cell_type": "code",
   "execution_count": 144,
   "id": "8e09ff28-a395-43b3-8338-678e32fbf56b",
   "metadata": {},
   "outputs": [
    {
     "data": {
      "text/html": [
       "<div>\n",
       "<style scoped>\n",
       "    .dataframe tbody tr th:only-of-type {\n",
       "        vertical-align: middle;\n",
       "    }\n",
       "\n",
       "    .dataframe tbody tr th {\n",
       "        vertical-align: top;\n",
       "    }\n",
       "\n",
       "    .dataframe thead th {\n",
       "        text-align: right;\n",
       "    }\n",
       "</style>\n",
       "<table border=\"1\" class=\"dataframe\">\n",
       "  <thead>\n",
       "    <tr style=\"text-align: right;\">\n",
       "      <th></th>\n",
       "      <th>payment_date</th>\n",
       "      <th>payment_year_month</th>\n",
       "      <th>payment_year</th>\n",
       "      <th>payment_month</th>\n",
       "    </tr>\n",
       "  </thead>\n",
       "  <tbody>\n",
       "    <tr>\n",
       "      <th>0</th>\n",
       "      <td>2019-02-01 01:36:57</td>\n",
       "      <td>201902</td>\n",
       "      <td>2019</td>\n",
       "      <td>2</td>\n",
       "    </tr>\n",
       "    <tr>\n",
       "      <th>1</th>\n",
       "      <td>2019-02-01 01:37:23</td>\n",
       "      <td>201902</td>\n",
       "      <td>2019</td>\n",
       "      <td>2</td>\n",
       "    </tr>\n",
       "    <tr>\n",
       "      <th>2</th>\n",
       "      <td>2019-02-01 02:34:19</td>\n",
       "      <td>201902</td>\n",
       "      <td>2019</td>\n",
       "      <td>2</td>\n",
       "    </tr>\n",
       "    <tr>\n",
       "      <th>3</th>\n",
       "      <td>2019-02-01 02:47:23</td>\n",
       "      <td>201902</td>\n",
       "      <td>2019</td>\n",
       "      <td>2</td>\n",
       "    </tr>\n",
       "    <tr>\n",
       "      <th>4</th>\n",
       "      <td>2019-02-01 04:33:46</td>\n",
       "      <td>201902</td>\n",
       "      <td>2019</td>\n",
       "      <td>2</td>\n",
       "    </tr>\n",
       "    <tr>\n",
       "      <th>...</th>\n",
       "      <td>...</td>\n",
       "      <td>...</td>\n",
       "      <td>...</td>\n",
       "      <td>...</td>\n",
       "    </tr>\n",
       "    <tr>\n",
       "      <th>7139</th>\n",
       "      <td>2019-07-31 21:20:44</td>\n",
       "      <td>201907</td>\n",
       "      <td>2019</td>\n",
       "      <td>7</td>\n",
       "    </tr>\n",
       "    <tr>\n",
       "      <th>7140</th>\n",
       "      <td>2019-07-31 21:52:48</td>\n",
       "      <td>201907</td>\n",
       "      <td>2019</td>\n",
       "      <td>7</td>\n",
       "    </tr>\n",
       "    <tr>\n",
       "      <th>7141</th>\n",
       "      <td>2019-07-31 23:35:25</td>\n",
       "      <td>201907</td>\n",
       "      <td>2019</td>\n",
       "      <td>7</td>\n",
       "    </tr>\n",
       "    <tr>\n",
       "      <th>7142</th>\n",
       "      <td>2019-07-31 23:39:35</td>\n",
       "      <td>201907</td>\n",
       "      <td>2019</td>\n",
       "      <td>7</td>\n",
       "    </tr>\n",
       "    <tr>\n",
       "      <th>7143</th>\n",
       "      <td>2019-07-31 23:41:38</td>\n",
       "      <td>201907</td>\n",
       "      <td>2019</td>\n",
       "      <td>7</td>\n",
       "    </tr>\n",
       "  </tbody>\n",
       "</table>\n",
       "<p>7144 rows × 4 columns</p>\n",
       "</div>"
      ],
      "text/plain": [
       "            payment_date payment_year_month  payment_year  payment_month\n",
       "0    2019-02-01 01:36:57             201902          2019              2\n",
       "1    2019-02-01 01:37:23             201902          2019              2\n",
       "2    2019-02-01 02:34:19             201902          2019              2\n",
       "3    2019-02-01 02:47:23             201902          2019              2\n",
       "4    2019-02-01 04:33:46             201902          2019              2\n",
       "...                  ...                ...           ...            ...\n",
       "7139 2019-07-31 21:20:44             201907          2019              7\n",
       "7140 2019-07-31 21:52:48             201907          2019              7\n",
       "7141 2019-07-31 23:35:25             201907          2019              7\n",
       "7142 2019-07-31 23:39:35             201907          2019              7\n",
       "7143 2019-07-31 23:41:38             201907          2019              7\n",
       "\n",
       "[7144 rows x 4 columns]"
      ]
     },
     "execution_count": 144,
     "metadata": {},
     "output_type": "execute_result"
    }
   ],
   "source": [
    "join_data[['payment_date', 'payment_year_month', 'payment_year', 'payment_month']]"
   ]
  },
  {
   "cell_type": "markdown",
   "id": "1712a4fe-f0c1-49d5-b0ce-a260e3ec324e",
   "metadata": {},
   "source": [
    "### * 월별 데이터 집계: df.groupby()"
   ]
  },
  {
   "cell_type": "code",
   "execution_count": 146,
   "id": "234f30ce-fd04-49fe-9e1a-2cd533591a95",
   "metadata": {},
   "outputs": [
    {
     "data": {
      "text/plain": [
       "payment_year_month\n",
       "201902    160185000\n",
       "201903    160370000\n",
       "201904    160510000\n",
       "201905    155420000\n",
       "201906    164030000\n",
       "201907    170620000\n",
       "Name: price, dtype: int64"
      ]
     },
     "execution_count": 146,
     "metadata": {},
     "output_type": "execute_result"
    }
   ],
   "source": [
    "join_data.groupby('payment_year_month').sum()['price']"
   ]
  },
  {
   "cell_type": "code",
   "execution_count": 147,
   "id": "dd3a2a09-6265-4dc5-88d0-e5e9e10c1029",
   "metadata": {},
   "outputs": [
    {
     "data": {
      "text/plain": [
       "payment_year_month\n",
       "201902    160185000\n",
       "201903    160370000\n",
       "201904    160510000\n",
       "201905    155420000\n",
       "201906    164030000\n",
       "201907    170620000\n",
       "Name: price, dtype: int64"
      ]
     },
     "execution_count": 147,
     "metadata": {},
     "output_type": "execute_result"
    }
   ],
   "source": [
    "join_data.groupby('payment_year_month')['price'].sum()"
   ]
  },
  {
   "cell_type": "markdown",
   "id": "7c8c9cfc-bbe3-4d2e-bb00-0060c383ae27",
   "metadata": {},
   "source": [
    "## [009] 월별, 상품별로 데이터 집계"
   ]
  },
  {
   "cell_type": "code",
   "execution_count": 148,
   "id": "56b5453e-2147-4c12-9a4a-62b445bdfe87",
   "metadata": {},
   "outputs": [
    {
     "data": {
      "text/html": [
       "<div>\n",
       "<style scoped>\n",
       "    .dataframe tbody tr th:only-of-type {\n",
       "        vertical-align: middle;\n",
       "    }\n",
       "\n",
       "    .dataframe tbody tr th {\n",
       "        vertical-align: top;\n",
       "    }\n",
       "\n",
       "    .dataframe thead th {\n",
       "        text-align: right;\n",
       "    }\n",
       "</style>\n",
       "<table border=\"1\" class=\"dataframe\">\n",
       "  <thead>\n",
       "    <tr style=\"text-align: right;\">\n",
       "      <th></th>\n",
       "      <th></th>\n",
       "      <th>price</th>\n",
       "      <th>quantity</th>\n",
       "    </tr>\n",
       "    <tr>\n",
       "      <th>payment_year_month</th>\n",
       "      <th>item_name</th>\n",
       "      <th></th>\n",
       "      <th></th>\n",
       "    </tr>\n",
       "  </thead>\n",
       "  <tbody>\n",
       "    <tr>\n",
       "      <th rowspan=\"5\" valign=\"top\">201902</th>\n",
       "      <th>PC-A</th>\n",
       "      <td>24150000</td>\n",
       "      <td>483</td>\n",
       "    </tr>\n",
       "    <tr>\n",
       "      <th>PC-B</th>\n",
       "      <td>25245000</td>\n",
       "      <td>297</td>\n",
       "    </tr>\n",
       "    <tr>\n",
       "      <th>PC-C</th>\n",
       "      <td>19800000</td>\n",
       "      <td>165</td>\n",
       "    </tr>\n",
       "    <tr>\n",
       "      <th>PC-D</th>\n",
       "      <td>31140000</td>\n",
       "      <td>173</td>\n",
       "    </tr>\n",
       "    <tr>\n",
       "      <th>PC-E</th>\n",
       "      <td>59850000</td>\n",
       "      <td>285</td>\n",
       "    </tr>\n",
       "    <tr>\n",
       "      <th rowspan=\"5\" valign=\"top\">201903</th>\n",
       "      <th>PC-A</th>\n",
       "      <td>26000000</td>\n",
       "      <td>520</td>\n",
       "    </tr>\n",
       "    <tr>\n",
       "      <th>PC-B</th>\n",
       "      <td>25500000</td>\n",
       "      <td>300</td>\n",
       "    </tr>\n",
       "    <tr>\n",
       "      <th>PC-C</th>\n",
       "      <td>19080000</td>\n",
       "      <td>159</td>\n",
       "    </tr>\n",
       "    <tr>\n",
       "      <th>PC-D</th>\n",
       "      <td>25740000</td>\n",
       "      <td>143</td>\n",
       "    </tr>\n",
       "    <tr>\n",
       "      <th>PC-E</th>\n",
       "      <td>64050000</td>\n",
       "      <td>305</td>\n",
       "    </tr>\n",
       "    <tr>\n",
       "      <th rowspan=\"5\" valign=\"top\">201904</th>\n",
       "      <th>PC-A</th>\n",
       "      <td>25900000</td>\n",
       "      <td>518</td>\n",
       "    </tr>\n",
       "    <tr>\n",
       "      <th>PC-B</th>\n",
       "      <td>23460000</td>\n",
       "      <td>276</td>\n",
       "    </tr>\n",
       "    <tr>\n",
       "      <th>PC-C</th>\n",
       "      <td>21960000</td>\n",
       "      <td>183</td>\n",
       "    </tr>\n",
       "    <tr>\n",
       "      <th>PC-D</th>\n",
       "      <td>24300000</td>\n",
       "      <td>135</td>\n",
       "    </tr>\n",
       "    <tr>\n",
       "      <th>PC-E</th>\n",
       "      <td>64890000</td>\n",
       "      <td>309</td>\n",
       "    </tr>\n",
       "    <tr>\n",
       "      <th rowspan=\"5\" valign=\"top\">201905</th>\n",
       "      <th>PC-A</th>\n",
       "      <td>24850000</td>\n",
       "      <td>497</td>\n",
       "    </tr>\n",
       "    <tr>\n",
       "      <th>PC-B</th>\n",
       "      <td>25330000</td>\n",
       "      <td>298</td>\n",
       "    </tr>\n",
       "    <tr>\n",
       "      <th>PC-C</th>\n",
       "      <td>20520000</td>\n",
       "      <td>171</td>\n",
       "    </tr>\n",
       "    <tr>\n",
       "      <th>PC-D</th>\n",
       "      <td>25920000</td>\n",
       "      <td>144</td>\n",
       "    </tr>\n",
       "    <tr>\n",
       "      <th>PC-E</th>\n",
       "      <td>58800000</td>\n",
       "      <td>280</td>\n",
       "    </tr>\n",
       "    <tr>\n",
       "      <th rowspan=\"5\" valign=\"top\">201906</th>\n",
       "      <th>PC-A</th>\n",
       "      <td>26000000</td>\n",
       "      <td>520</td>\n",
       "    </tr>\n",
       "    <tr>\n",
       "      <th>PC-B</th>\n",
       "      <td>23970000</td>\n",
       "      <td>282</td>\n",
       "    </tr>\n",
       "    <tr>\n",
       "      <th>PC-C</th>\n",
       "      <td>21840000</td>\n",
       "      <td>182</td>\n",
       "    </tr>\n",
       "    <tr>\n",
       "      <th>PC-D</th>\n",
       "      <td>28800000</td>\n",
       "      <td>160</td>\n",
       "    </tr>\n",
       "    <tr>\n",
       "      <th>PC-E</th>\n",
       "      <td>63420000</td>\n",
       "      <td>302</td>\n",
       "    </tr>\n",
       "    <tr>\n",
       "      <th rowspan=\"5\" valign=\"top\">201907</th>\n",
       "      <th>PC-A</th>\n",
       "      <td>25250000</td>\n",
       "      <td>505</td>\n",
       "    </tr>\n",
       "    <tr>\n",
       "      <th>PC-B</th>\n",
       "      <td>28220000</td>\n",
       "      <td>332</td>\n",
       "    </tr>\n",
       "    <tr>\n",
       "      <th>PC-C</th>\n",
       "      <td>19440000</td>\n",
       "      <td>162</td>\n",
       "    </tr>\n",
       "    <tr>\n",
       "      <th>PC-D</th>\n",
       "      <td>26100000</td>\n",
       "      <td>145</td>\n",
       "    </tr>\n",
       "    <tr>\n",
       "      <th>PC-E</th>\n",
       "      <td>71610000</td>\n",
       "      <td>341</td>\n",
       "    </tr>\n",
       "  </tbody>\n",
       "</table>\n",
       "</div>"
      ],
      "text/plain": [
       "                                 price  quantity\n",
       "payment_year_month item_name                    \n",
       "201902             PC-A       24150000       483\n",
       "                   PC-B       25245000       297\n",
       "                   PC-C       19800000       165\n",
       "                   PC-D       31140000       173\n",
       "                   PC-E       59850000       285\n",
       "201903             PC-A       26000000       520\n",
       "                   PC-B       25500000       300\n",
       "                   PC-C       19080000       159\n",
       "                   PC-D       25740000       143\n",
       "                   PC-E       64050000       305\n",
       "201904             PC-A       25900000       518\n",
       "                   PC-B       23460000       276\n",
       "                   PC-C       21960000       183\n",
       "                   PC-D       24300000       135\n",
       "                   PC-E       64890000       309\n",
       "201905             PC-A       24850000       497\n",
       "                   PC-B       25330000       298\n",
       "                   PC-C       20520000       171\n",
       "                   PC-D       25920000       144\n",
       "                   PC-E       58800000       280\n",
       "201906             PC-A       26000000       520\n",
       "                   PC-B       23970000       282\n",
       "                   PC-C       21840000       182\n",
       "                   PC-D       28800000       160\n",
       "                   PC-E       63420000       302\n",
       "201907             PC-A       25250000       505\n",
       "                   PC-B       28220000       332\n",
       "                   PC-C       19440000       162\n",
       "                   PC-D       26100000       145\n",
       "                   PC-E       71610000       341"
      ]
     },
     "execution_count": 148,
     "metadata": {},
     "output_type": "execute_result"
    }
   ],
   "source": [
    "join_data.groupby(['payment_year_month', 'item_name'])[['price', 'quantity']].sum()"
   ]
  },
  {
   "cell_type": "markdown",
   "id": "46ab72cb-74a2-4980-b4f1-fb3671ab7741",
   "metadata": {},
   "source": [
    "### * 피봇 테이블: pd.pivot_table()"
   ]
  },
  {
   "cell_type": "code",
   "execution_count": 159,
   "id": "750819af-b6a8-4e94-a9ee-60a2d7feafd5",
   "metadata": {},
   "outputs": [
    {
     "data": {
      "text/html": [
       "<div>\n",
       "<style scoped>\n",
       "    .dataframe tbody tr th:only-of-type {\n",
       "        vertical-align: middle;\n",
       "    }\n",
       "\n",
       "    .dataframe tbody tr th {\n",
       "        vertical-align: top;\n",
       "    }\n",
       "\n",
       "    .dataframe thead tr th {\n",
       "        text-align: left;\n",
       "    }\n",
       "\n",
       "    .dataframe thead tr:last-of-type th {\n",
       "        text-align: right;\n",
       "    }\n",
       "</style>\n",
       "<table border=\"1\" class=\"dataframe\">\n",
       "  <thead>\n",
       "    <tr>\n",
       "      <th></th>\n",
       "      <th colspan=\"6\" halign=\"left\">price</th>\n",
       "      <th colspan=\"6\" halign=\"left\">quantity</th>\n",
       "    </tr>\n",
       "    <tr>\n",
       "      <th>payment_year_month</th>\n",
       "      <th>201902</th>\n",
       "      <th>201903</th>\n",
       "      <th>201904</th>\n",
       "      <th>201905</th>\n",
       "      <th>201906</th>\n",
       "      <th>201907</th>\n",
       "      <th>201902</th>\n",
       "      <th>201903</th>\n",
       "      <th>201904</th>\n",
       "      <th>201905</th>\n",
       "      <th>201906</th>\n",
       "      <th>201907</th>\n",
       "    </tr>\n",
       "    <tr>\n",
       "      <th>item_name</th>\n",
       "      <th></th>\n",
       "      <th></th>\n",
       "      <th></th>\n",
       "      <th></th>\n",
       "      <th></th>\n",
       "      <th></th>\n",
       "      <th></th>\n",
       "      <th></th>\n",
       "      <th></th>\n",
       "      <th></th>\n",
       "      <th></th>\n",
       "      <th></th>\n",
       "    </tr>\n",
       "  </thead>\n",
       "  <tbody>\n",
       "    <tr>\n",
       "      <th>PC-A</th>\n",
       "      <td>24150000</td>\n",
       "      <td>26000000</td>\n",
       "      <td>25900000</td>\n",
       "      <td>24850000</td>\n",
       "      <td>26000000</td>\n",
       "      <td>25250000</td>\n",
       "      <td>483</td>\n",
       "      <td>520</td>\n",
       "      <td>518</td>\n",
       "      <td>497</td>\n",
       "      <td>520</td>\n",
       "      <td>505</td>\n",
       "    </tr>\n",
       "    <tr>\n",
       "      <th>PC-B</th>\n",
       "      <td>25245000</td>\n",
       "      <td>25500000</td>\n",
       "      <td>23460000</td>\n",
       "      <td>25330000</td>\n",
       "      <td>23970000</td>\n",
       "      <td>28220000</td>\n",
       "      <td>297</td>\n",
       "      <td>300</td>\n",
       "      <td>276</td>\n",
       "      <td>298</td>\n",
       "      <td>282</td>\n",
       "      <td>332</td>\n",
       "    </tr>\n",
       "    <tr>\n",
       "      <th>PC-C</th>\n",
       "      <td>19800000</td>\n",
       "      <td>19080000</td>\n",
       "      <td>21960000</td>\n",
       "      <td>20520000</td>\n",
       "      <td>21840000</td>\n",
       "      <td>19440000</td>\n",
       "      <td>165</td>\n",
       "      <td>159</td>\n",
       "      <td>183</td>\n",
       "      <td>171</td>\n",
       "      <td>182</td>\n",
       "      <td>162</td>\n",
       "    </tr>\n",
       "    <tr>\n",
       "      <th>PC-D</th>\n",
       "      <td>31140000</td>\n",
       "      <td>25740000</td>\n",
       "      <td>24300000</td>\n",
       "      <td>25920000</td>\n",
       "      <td>28800000</td>\n",
       "      <td>26100000</td>\n",
       "      <td>173</td>\n",
       "      <td>143</td>\n",
       "      <td>135</td>\n",
       "      <td>144</td>\n",
       "      <td>160</td>\n",
       "      <td>145</td>\n",
       "    </tr>\n",
       "    <tr>\n",
       "      <th>PC-E</th>\n",
       "      <td>59850000</td>\n",
       "      <td>64050000</td>\n",
       "      <td>64890000</td>\n",
       "      <td>58800000</td>\n",
       "      <td>63420000</td>\n",
       "      <td>71610000</td>\n",
       "      <td>285</td>\n",
       "      <td>305</td>\n",
       "      <td>309</td>\n",
       "      <td>280</td>\n",
       "      <td>302</td>\n",
       "      <td>341</td>\n",
       "    </tr>\n",
       "  </tbody>\n",
       "</table>\n",
       "</div>"
      ],
      "text/plain": [
       "                       price                                          \\\n",
       "payment_year_month    201902    201903    201904    201905    201906   \n",
       "item_name                                                              \n",
       "PC-A                24150000  26000000  25900000  24850000  26000000   \n",
       "PC-B                25245000  25500000  23460000  25330000  23970000   \n",
       "PC-C                19800000  19080000  21960000  20520000  21840000   \n",
       "PC-D                31140000  25740000  24300000  25920000  28800000   \n",
       "PC-E                59850000  64050000  64890000  58800000  63420000   \n",
       "\n",
       "                             quantity                                     \n",
       "payment_year_month    201907   201902 201903 201904 201905 201906 201907  \n",
       "item_name                                                                 \n",
       "PC-A                25250000      483    520    518    497    520    505  \n",
       "PC-B                28220000      297    300    276    298    282    332  \n",
       "PC-C                19440000      165    159    183    171    182    162  \n",
       "PC-D                26100000      173    143    135    144    160    145  \n",
       "PC-E                71610000      285    305    309    280    302    341  "
      ]
     },
     "execution_count": 159,
     "metadata": {},
     "output_type": "execute_result"
    }
   ],
   "source": [
    "pd.pivot_table(join_data, \n",
    "               index='item_name',\n",
    "               columns='payment_year_month',\n",
    "               values=['price', 'quantity'],\n",
    "               aggfunc='sum')"
   ]
  },
  {
   "cell_type": "code",
   "execution_count": 164,
   "id": "bae21a1d-0a87-447b-ac67-f2355b54eac9",
   "metadata": {},
   "outputs": [
    {
     "data": {
      "text/html": [
       "<div>\n",
       "<style scoped>\n",
       "    .dataframe tbody tr th:only-of-type {\n",
       "        vertical-align: middle;\n",
       "    }\n",
       "\n",
       "    .dataframe tbody tr th {\n",
       "        vertical-align: top;\n",
       "    }\n",
       "\n",
       "    .dataframe thead tr th {\n",
       "        text-align: left;\n",
       "    }\n",
       "\n",
       "    .dataframe thead tr:last-of-type th {\n",
       "        text-align: right;\n",
       "    }\n",
       "</style>\n",
       "<table border=\"1\" class=\"dataframe\">\n",
       "  <thead>\n",
       "    <tr>\n",
       "      <th></th>\n",
       "      <th colspan=\"6\" halign=\"left\">price</th>\n",
       "      <th colspan=\"6\" halign=\"left\">quantity</th>\n",
       "    </tr>\n",
       "    <tr>\n",
       "      <th>payment_year_month</th>\n",
       "      <th>201902</th>\n",
       "      <th>201903</th>\n",
       "      <th>201904</th>\n",
       "      <th>201905</th>\n",
       "      <th>201906</th>\n",
       "      <th>201907</th>\n",
       "      <th>201902</th>\n",
       "      <th>201903</th>\n",
       "      <th>201904</th>\n",
       "      <th>201905</th>\n",
       "      <th>201906</th>\n",
       "      <th>201907</th>\n",
       "    </tr>\n",
       "    <tr>\n",
       "      <th>item_name</th>\n",
       "      <th></th>\n",
       "      <th></th>\n",
       "      <th></th>\n",
       "      <th></th>\n",
       "      <th></th>\n",
       "      <th></th>\n",
       "      <th></th>\n",
       "      <th></th>\n",
       "      <th></th>\n",
       "      <th></th>\n",
       "      <th></th>\n",
       "      <th></th>\n",
       "    </tr>\n",
       "  </thead>\n",
       "  <tbody>\n",
       "    <tr>\n",
       "      <th>PC-A</th>\n",
       "      <td>24150000</td>\n",
       "      <td>26000000</td>\n",
       "      <td>25900000</td>\n",
       "      <td>24850000</td>\n",
       "      <td>26000000</td>\n",
       "      <td>25250000</td>\n",
       "      <td>483</td>\n",
       "      <td>520</td>\n",
       "      <td>518</td>\n",
       "      <td>497</td>\n",
       "      <td>520</td>\n",
       "      <td>505</td>\n",
       "    </tr>\n",
       "    <tr>\n",
       "      <th>PC-B</th>\n",
       "      <td>25245000</td>\n",
       "      <td>25500000</td>\n",
       "      <td>23460000</td>\n",
       "      <td>25330000</td>\n",
       "      <td>23970000</td>\n",
       "      <td>28220000</td>\n",
       "      <td>297</td>\n",
       "      <td>300</td>\n",
       "      <td>276</td>\n",
       "      <td>298</td>\n",
       "      <td>282</td>\n",
       "      <td>332</td>\n",
       "    </tr>\n",
       "    <tr>\n",
       "      <th>PC-C</th>\n",
       "      <td>19800000</td>\n",
       "      <td>19080000</td>\n",
       "      <td>21960000</td>\n",
       "      <td>20520000</td>\n",
       "      <td>21840000</td>\n",
       "      <td>19440000</td>\n",
       "      <td>165</td>\n",
       "      <td>159</td>\n",
       "      <td>183</td>\n",
       "      <td>171</td>\n",
       "      <td>182</td>\n",
       "      <td>162</td>\n",
       "    </tr>\n",
       "    <tr>\n",
       "      <th>PC-D</th>\n",
       "      <td>31140000</td>\n",
       "      <td>25740000</td>\n",
       "      <td>24300000</td>\n",
       "      <td>25920000</td>\n",
       "      <td>28800000</td>\n",
       "      <td>26100000</td>\n",
       "      <td>173</td>\n",
       "      <td>143</td>\n",
       "      <td>135</td>\n",
       "      <td>144</td>\n",
       "      <td>160</td>\n",
       "      <td>145</td>\n",
       "    </tr>\n",
       "    <tr>\n",
       "      <th>PC-E</th>\n",
       "      <td>59850000</td>\n",
       "      <td>64050000</td>\n",
       "      <td>64890000</td>\n",
       "      <td>58800000</td>\n",
       "      <td>63420000</td>\n",
       "      <td>71610000</td>\n",
       "      <td>285</td>\n",
       "      <td>305</td>\n",
       "      <td>309</td>\n",
       "      <td>280</td>\n",
       "      <td>302</td>\n",
       "      <td>341</td>\n",
       "    </tr>\n",
       "  </tbody>\n",
       "</table>\n",
       "</div>"
      ],
      "text/plain": [
       "                       price                                          \\\n",
       "payment_year_month    201902    201903    201904    201905    201906   \n",
       "item_name                                                              \n",
       "PC-A                24150000  26000000  25900000  24850000  26000000   \n",
       "PC-B                25245000  25500000  23460000  25330000  23970000   \n",
       "PC-C                19800000  19080000  21960000  20520000  21840000   \n",
       "PC-D                31140000  25740000  24300000  25920000  28800000   \n",
       "PC-E                59850000  64050000  64890000  58800000  63420000   \n",
       "\n",
       "                             quantity                                     \n",
       "payment_year_month    201907   201902 201903 201904 201905 201906 201907  \n",
       "item_name                                                                 \n",
       "PC-A                25250000      483    520    518    497    520    505  \n",
       "PC-B                28220000      297    300    276    298    282    332  \n",
       "PC-C                19440000      165    159    183    171    182    162  \n",
       "PC-D                26100000      173    143    135    144    160    145  \n",
       "PC-E                71610000      285    305    309    280    302    341  "
      ]
     },
     "execution_count": 164,
     "metadata": {},
     "output_type": "execute_result"
    }
   ],
   "source": [
    "df = join_data.groupby(['payment_year_month', 'item_name'], as_index=False)[['price', 'quantity']].sum()\n",
    "pd.pivot_table(df,\n",
    "               index='item_name',\n",
    "               columns='payment_year_month',\n",
    "               values=['price', 'quantity'])              "
   ]
  },
  {
   "cell_type": "markdown",
   "id": "b525a179-f725-48c0-9622-b69053c734ec",
   "metadata": {},
   "source": [
    "## [010] 상품별 매출 추이 가시화"
   ]
  },
  {
   "cell_type": "markdown",
   "id": "9c9b9377-a5b0-49e1-aa4d-52d9bb0ab003",
   "metadata": {},
   "source": [
    "### * 데이터 집계: pd.pivot_table()"
   ]
  },
  {
   "cell_type": "code",
   "execution_count": 165,
   "id": "6857e2f7-61e7-4cd3-b7b0-54624fcd3089",
   "metadata": {},
   "outputs": [],
   "source": [
    "graph_data = pd.pivot_table(join_data,\n",
    "                            index='payment_year_month',\n",
    "                            columns='item_name',\n",
    "                            values='price',\n",
    "                            aggfunc='sum')"
   ]
  },
  {
   "cell_type": "code",
   "execution_count": 167,
   "id": "650aeabc-b639-47cd-8af4-ef86b5a53b5d",
   "metadata": {},
   "outputs": [
    {
     "data": {
      "text/html": [
       "<div>\n",
       "<style scoped>\n",
       "    .dataframe tbody tr th:only-of-type {\n",
       "        vertical-align: middle;\n",
       "    }\n",
       "\n",
       "    .dataframe tbody tr th {\n",
       "        vertical-align: top;\n",
       "    }\n",
       "\n",
       "    .dataframe thead th {\n",
       "        text-align: right;\n",
       "    }\n",
       "</style>\n",
       "<table border=\"1\" class=\"dataframe\">\n",
       "  <thead>\n",
       "    <tr style=\"text-align: right;\">\n",
       "      <th>item_name</th>\n",
       "      <th>PC-A</th>\n",
       "      <th>PC-B</th>\n",
       "      <th>PC-C</th>\n",
       "      <th>PC-D</th>\n",
       "      <th>PC-E</th>\n",
       "    </tr>\n",
       "    <tr>\n",
       "      <th>payment_year_month</th>\n",
       "      <th></th>\n",
       "      <th></th>\n",
       "      <th></th>\n",
       "      <th></th>\n",
       "      <th></th>\n",
       "    </tr>\n",
       "  </thead>\n",
       "  <tbody>\n",
       "    <tr>\n",
       "      <th>201902</th>\n",
       "      <td>24150000</td>\n",
       "      <td>25245000</td>\n",
       "      <td>19800000</td>\n",
       "      <td>31140000</td>\n",
       "      <td>59850000</td>\n",
       "    </tr>\n",
       "    <tr>\n",
       "      <th>201903</th>\n",
       "      <td>26000000</td>\n",
       "      <td>25500000</td>\n",
       "      <td>19080000</td>\n",
       "      <td>25740000</td>\n",
       "      <td>64050000</td>\n",
       "    </tr>\n",
       "    <tr>\n",
       "      <th>201904</th>\n",
       "      <td>25900000</td>\n",
       "      <td>23460000</td>\n",
       "      <td>21960000</td>\n",
       "      <td>24300000</td>\n",
       "      <td>64890000</td>\n",
       "    </tr>\n",
       "    <tr>\n",
       "      <th>201905</th>\n",
       "      <td>24850000</td>\n",
       "      <td>25330000</td>\n",
       "      <td>20520000</td>\n",
       "      <td>25920000</td>\n",
       "      <td>58800000</td>\n",
       "    </tr>\n",
       "    <tr>\n",
       "      <th>201906</th>\n",
       "      <td>26000000</td>\n",
       "      <td>23970000</td>\n",
       "      <td>21840000</td>\n",
       "      <td>28800000</td>\n",
       "      <td>63420000</td>\n",
       "    </tr>\n",
       "    <tr>\n",
       "      <th>201907</th>\n",
       "      <td>25250000</td>\n",
       "      <td>28220000</td>\n",
       "      <td>19440000</td>\n",
       "      <td>26100000</td>\n",
       "      <td>71610000</td>\n",
       "    </tr>\n",
       "  </tbody>\n",
       "</table>\n",
       "</div>"
      ],
      "text/plain": [
       "item_name               PC-A      PC-B      PC-C      PC-D      PC-E\n",
       "payment_year_month                                                  \n",
       "201902              24150000  25245000  19800000  31140000  59850000\n",
       "201903              26000000  25500000  19080000  25740000  64050000\n",
       "201904              25900000  23460000  21960000  24300000  64890000\n",
       "201905              24850000  25330000  20520000  25920000  58800000\n",
       "201906              26000000  23970000  21840000  28800000  63420000\n",
       "201907              25250000  28220000  19440000  26100000  71610000"
      ]
     },
     "execution_count": 167,
     "metadata": {},
     "output_type": "execute_result"
    }
   ],
   "source": [
    "graph_data"
   ]
  },
  {
   "cell_type": "markdown",
   "id": "23c26f2b-7111-4fd1-b36b-57433e08910e",
   "metadata": {},
   "source": [
    "### * 그래프 그리기: matplotlib.pyplot"
   ]
  },
  {
   "cell_type": "code",
   "execution_count": 168,
   "id": "41dad171-cbdd-4a5b-b108-9d3da6973a6f",
   "metadata": {},
   "outputs": [],
   "source": [
    "import matplotlib.pyplot as plt"
   ]
  },
  {
   "cell_type": "code",
   "execution_count": 169,
   "id": "4e3d33b2-7db8-4c64-b75d-8ade32b49202",
   "metadata": {},
   "outputs": [],
   "source": [
    "%matplotlib inline"
   ]
  },
  {
   "cell_type": "code",
   "execution_count": 174,
   "id": "17214e95-bcd1-4841-b239-101bb0919236",
   "metadata": {},
   "outputs": [
    {
     "data": {
      "image/png": "[encoded data removed]",
      "text/plain": [
       "<Figure size 640x480 with 1 Axes>"
      ]
     },
     "metadata": {},
     "output_type": "display_data"
    }
   ],
   "source": [
    "plt.plot(list(graph_data.index), graph_data['PC-A'], label='PC-A');\n",
    "plt.plot(list(graph_data.index), graph_data['PC-B'], label='PC-B');\n",
    "plt.plot(list(graph_data.index), graph_data['PC-C'], label='PC-C');\n",
    "plt.plot(list(graph_data.index), graph_data['PC-D'], label='PC-D');\n",
    "plt.plot(list(graph_data.index), graph_data['PC-E'], label='PC-E');\n",
    "plt.legend();"
   ]
  },
  {
   "cell_type": "markdown",
   "id": "5899a69a-b257-4cfe-8dc2-2068d08665fa",
   "metadata": {},
   "source": [
    "## - End."
   ]
  },
  {
   "cell_type": "code",
   "execution_count": null,
   "id": "7c10175c-4623-4be9-bbab-39ed0163a0b7",
   "metadata": {},
   "outputs": [],
   "source": []
  }
 ],
 "metadata": {
  "kernelspec": {
   "display_name": "Python 3 (ipykernel)",
   "language": "python",
   "name": "python3"
  },
  "language_info": {
   "codemirror_mode": {
    "name": "ipython",
    "version": 3
   },
   "file_extension": ".py",
   "mimetype": "text/x-python",
   "name": "python",
   "nbconvert_exporter": "python",
   "pygments_lexer": "ipython3",
   "version": "3.9.13"
  }
 },
 "nbformat": 4,
 "nbformat_minor": 5
}
